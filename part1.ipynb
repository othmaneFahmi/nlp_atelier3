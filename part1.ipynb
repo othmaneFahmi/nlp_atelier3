{
 "cells": [
  {
   "cell_type": "code",
   "execution_count": 106,
   "metadata": {},
   "outputs": [],
   "source": [
    "import nltk\n",
    "import re\n",
    "from gensim.models import Word2Vec\n",
    "import pandas as pd\n",
    "import numpy as np\n",
    "from sklearn.feature_extraction.text import TfidfVectorizer , CountVectorizer\n",
    "from sklearn.metrics import mean_squared_error , r2_score\n"
   ]
  },
  {
   "cell_type": "markdown",
   "metadata": {},
   "source": [
    "## Data Processing"
   ]
  },
  {
   "cell_type": "code",
   "execution_count": 90,
   "metadata": {},
   "outputs": [],
   "source": [
    "def remove_special_chars(text):\n",
    "  # Regular expression to match all characters except alphanumeric (a-z, A-Z, 0-9) and underscore\n",
    "    text = re.sub(r'\\b\\S*\\.com\\S*\\b', '', text, flags=re.MULTILINE)\n",
    "    # Remove links starts with http/https/www\n",
    "    text = re.sub(r'http\\S+\\.com\\S*|www\\S+\\.com\\S*|https\\S+\\.com\\S*', '', text, flags=re.MULTILINE)\n",
    "    # Remove words starting with # or @\n",
    "    text = re.sub(r'(@|#)\\w+', '', text)\n",
    "    # Remove non-alphanumeric characters (except spaces)\n",
    "    text = re.sub(r'[^a-zA-Z0-9\\s]', '', text)\n",
    "    # Convert to lowercase and remove extra spaces\n",
    "    cleaned_text = ' '.join(text.lower().split())\n",
    "    return cleaned_text\n",
    "def preprocess_text(text):\n",
    "  text = remove_special_chars(text)\n",
    "  # Tokenization (sentence -> words)\n",
    "  tokens = nltk.word_tokenize(text)\n",
    "\n",
    "  # Lowercase\n",
    "\n",
    "  # Stop word removal\n",
    "  stopwords = nltk.corpus.stopwords.words('english')\n",
    "  tokens = [token for token in tokens if token not in stopwords]\n",
    "\n",
    "  # Lemmatization\n",
    "  lemmatizer = nltk.stem.WordNetLemmatizer()\n",
    "  tokens = [lemmatizer.lemmatize(token) for token in tokens]\n",
    "\n",
    "  return tokens"
   ]
  },
  {
   "cell_type": "code",
   "execution_count": 91,
   "metadata": {},
   "outputs": [
    {
     "name": "stdout",
     "output_type": "stream",
     "text": [
      "2442\n"
     ]
    },
    {
     "data": {
      "text/html": [
       "<div>\n",
       "<style scoped>\n",
       "    .dataframe tbody tr th:only-of-type {\n",
       "        vertical-align: middle;\n",
       "    }\n",
       "\n",
       "    .dataframe tbody tr th {\n",
       "        vertical-align: top;\n",
       "    }\n",
       "\n",
       "    .dataframe thead th {\n",
       "        text-align: right;\n",
       "    }\n",
       "</style>\n",
       "<table border=\"1\" class=\"dataframe\">\n",
       "  <thead>\n",
       "    <tr style=\"text-align: right;\">\n",
       "      <th></th>\n",
       "      <th>id</th>\n",
       "      <th>answer</th>\n",
       "      <th>score</th>\n",
       "      <th>correct</th>\n",
       "    </tr>\n",
       "  </thead>\n",
       "  <tbody>\n",
       "    <tr>\n",
       "      <th>0</th>\n",
       "      <td>1.1</td>\n",
       "      <td>High risk problems are address in the prototyp...</td>\n",
       "      <td>3.5</td>\n",
       "      <td>0.0</td>\n",
       "    </tr>\n",
       "    <tr>\n",
       "      <th>1</th>\n",
       "      <td>1.1</td>\n",
       "      <td>To simulate portions of the desired final prod...</td>\n",
       "      <td>5.0</td>\n",
       "      <td>1.0</td>\n",
       "    </tr>\n",
       "    <tr>\n",
       "      <th>2</th>\n",
       "      <td>1.1</td>\n",
       "      <td>A prototype program simulates the behaviors of...</td>\n",
       "      <td>4.0</td>\n",
       "      <td>1.0</td>\n",
       "    </tr>\n",
       "    <tr>\n",
       "      <th>3</th>\n",
       "      <td>1.1</td>\n",
       "      <td>Defined in the Specification phase a prototype...</td>\n",
       "      <td>5.0</td>\n",
       "      <td>1.0</td>\n",
       "    </tr>\n",
       "    <tr>\n",
       "      <th>4</th>\n",
       "      <td>1.1</td>\n",
       "      <td>It is used to let the users have a first idea ...</td>\n",
       "      <td>3.0</td>\n",
       "      <td>0.0</td>\n",
       "    </tr>\n",
       "  </tbody>\n",
       "</table>\n",
       "</div>"
      ],
      "text/plain": [
       "    id                                             answer  score  correct\n",
       "0  1.1  High risk problems are address in the prototyp...    3.5      0.0\n",
       "1  1.1  To simulate portions of the desired final prod...    5.0      1.0\n",
       "2  1.1  A prototype program simulates the behaviors of...    4.0      1.0\n",
       "3  1.1  Defined in the Specification phase a prototype...    5.0      1.0\n",
       "4  1.1  It is used to let the users have a first idea ...    3.0      0.0"
      ]
     },
     "execution_count": 91,
     "metadata": {},
     "output_type": "execute_result"
    }
   ],
   "source": [
    "dataset = pd.read_csv('answers.csv')\n",
    "print(len(dataset))\n",
    "dataset.head()"
   ]
  },
  {
   "cell_type": "code",
   "execution_count": 92,
   "metadata": {},
   "outputs": [
    {
     "name": "stdout",
     "output_type": "stream",
     "text": [
      "2341\n"
     ]
    }
   ],
   "source": [
    "dataset = dataset.drop_duplicates()\n",
    "print(len(dataset))"
   ]
  },
  {
   "cell_type": "code",
   "execution_count": 95,
   "metadata": {},
   "outputs": [
    {
     "data": {
      "text/html": [
       "<div>\n",
       "<style scoped>\n",
       "    .dataframe tbody tr th:only-of-type {\n",
       "        vertical-align: middle;\n",
       "    }\n",
       "\n",
       "    .dataframe tbody tr th {\n",
       "        vertical-align: top;\n",
       "    }\n",
       "\n",
       "    .dataframe thead th {\n",
       "        text-align: right;\n",
       "    }\n",
       "</style>\n",
       "<table border=\"1\" class=\"dataframe\">\n",
       "  <thead>\n",
       "    <tr style=\"text-align: right;\">\n",
       "      <th></th>\n",
       "      <th>id</th>\n",
       "      <th>answer</th>\n",
       "      <th>score</th>\n",
       "      <th>correct</th>\n",
       "      <th>answer_tokenized</th>\n",
       "    </tr>\n",
       "  </thead>\n",
       "  <tbody>\n",
       "    <tr>\n",
       "      <th>0</th>\n",
       "      <td>1.1</td>\n",
       "      <td>High risk problems are address in the prototyp...</td>\n",
       "      <td>3.5</td>\n",
       "      <td>0.0</td>\n",
       "      <td>[high, risk, problem, address, prototype, prog...</td>\n",
       "    </tr>\n",
       "    <tr>\n",
       "      <th>1</th>\n",
       "      <td>1.1</td>\n",
       "      <td>To simulate portions of the desired final prod...</td>\n",
       "      <td>5.0</td>\n",
       "      <td>1.0</td>\n",
       "      <td>[simulate, portion, desired, final, product, q...</td>\n",
       "    </tr>\n",
       "    <tr>\n",
       "      <th>2</th>\n",
       "      <td>1.1</td>\n",
       "      <td>A prototype program simulates the behaviors of...</td>\n",
       "      <td>4.0</td>\n",
       "      <td>1.0</td>\n",
       "      <td>[prototype, program, simulates, behavior, port...</td>\n",
       "    </tr>\n",
       "    <tr>\n",
       "      <th>3</th>\n",
       "      <td>1.1</td>\n",
       "      <td>Defined in the Specification phase a prototype...</td>\n",
       "      <td>5.0</td>\n",
       "      <td>1.0</td>\n",
       "      <td>[defined, specification, phase, prototype, sti...</td>\n",
       "    </tr>\n",
       "    <tr>\n",
       "      <th>4</th>\n",
       "      <td>1.1</td>\n",
       "      <td>It is used to let the users have a first idea ...</td>\n",
       "      <td>3.0</td>\n",
       "      <td>0.0</td>\n",
       "      <td>[used, let, user, first, idea, completed, prog...</td>\n",
       "    </tr>\n",
       "  </tbody>\n",
       "</table>\n",
       "</div>"
      ],
      "text/plain": [
       "    id                                             answer  score  correct  \\\n",
       "0  1.1  High risk problems are address in the prototyp...    3.5      0.0   \n",
       "1  1.1  To simulate portions of the desired final prod...    5.0      1.0   \n",
       "2  1.1  A prototype program simulates the behaviors of...    4.0      1.0   \n",
       "3  1.1  Defined in the Specification phase a prototype...    5.0      1.0   \n",
       "4  1.1  It is used to let the users have a first idea ...    3.0      0.0   \n",
       "\n",
       "                                    answer_tokenized  \n",
       "0  [high, risk, problem, address, prototype, prog...  \n",
       "1  [simulate, portion, desired, final, product, q...  \n",
       "2  [prototype, program, simulates, behavior, port...  \n",
       "3  [defined, specification, phase, prototype, sti...  \n",
       "4  [used, let, user, first, idea, completed, prog...  "
      ]
     },
     "execution_count": 95,
     "metadata": {},
     "output_type": "execute_result"
    }
   ],
   "source": [
    "dataset['answer_tokenized'] = dataset['answer'].apply(preprocess_text)\n",
    "dataset.head()"
   ]
  },
  {
   "cell_type": "code",
   "execution_count": 96,
   "metadata": {},
   "outputs": [
    {
     "name": "stdout",
     "output_type": "stream",
     "text": [
      "<class 'pandas.core.frame.DataFrame'>\n",
      "Index: 2015 entries, 0 to 2441\n",
      "Data columns (total 5 columns):\n",
      " #   Column            Non-Null Count  Dtype  \n",
      "---  ------            --------------  -----  \n",
      " 0   id                2015 non-null   float64\n",
      " 1   answer            2015 non-null   object \n",
      " 2   score             2015 non-null   float64\n",
      " 3   correct           2015 non-null   float64\n",
      " 4   answer_tokenized  2015 non-null   object \n",
      "dtypes: float64(3), object(2)\n",
      "memory usage: 94.5+ KB\n"
     ]
    }
   ],
   "source": [
    "dataset = dataset[dataset['answer_tokenized'].apply(lambda x: len(x) >= 4)]\n",
    "dataset.info()"
   ]
  },
  {
   "cell_type": "markdown",
   "metadata": {},
   "source": [
    "## TF-IDF"
   ]
  },
  {
   "cell_type": "code",
   "execution_count": 101,
   "metadata": {},
   "outputs": [
    {
     "name": "stdout",
     "output_type": "stream",
     "text": [
      "[[0. 0. 0. ... 0. 0. 0.]\n",
      " [0. 0. 0. ... 0. 0. 0.]\n",
      " [0. 0. 0. ... 0. 0. 0.]\n",
      " ...\n",
      " [0. 0. 0. ... 0. 0. 0.]\n",
      " [0. 0. 0. ... 0. 0. 0.]\n",
      " [0. 0. 0. ... 0. 0. 0.]]\n"
     ]
    }
   ],
   "source": [
    "dataset['answer_processed'] = dataset['answer_tokenized'].apply(lambda x: ' '.join(x))\n",
    "\n",
    "# Initialiser le TfidfVectorizer\n",
    "vectorizer = TfidfVectorizer()\n",
    "\n",
    "# Appliquer le TF-IDF sur les textes prétraités\n",
    "tfidf_matrix = vectorizer.fit_transform(dataset['answer_processed']).toarray()\n",
    "print((tfidf_matrix))"
   ]
  },
  {
   "cell_type": "markdown",
   "metadata": {},
   "source": [
    "## Bag Of words"
   ]
  },
  {
   "cell_type": "code",
   "execution_count": 104,
   "metadata": {},
   "outputs": [
    {
     "name": "stdout",
     "output_type": "stream",
     "text": [
      "[[0 0 0 ... 0 0 0]\n",
      " [0 0 0 ... 0 0 0]\n",
      " [0 0 0 ... 0 0 0]\n",
      " ...\n",
      " [0 0 0 ... 0 0 0]\n",
      " [0 0 0 ... 0 0 0]\n",
      " [0 0 0 ... 0 0 0]]\n"
     ]
    }
   ],
   "source": [
    "vectorizer1 = CountVectorizer()\n",
    "bow_representation = vectorizer1.fit_transform(dataset['answer_processed']).toarray()\n",
    "print(bow_representation)"
   ]
  },
  {
   "cell_type": "markdown",
   "metadata": {},
   "source": [
    "## Word Embedding"
   ]
  },
  {
   "cell_type": "code",
   "execution_count": 80,
   "metadata": {},
   "outputs": [],
   "source": [
    "\n",
    "# Assurez-vous que votre colonne 'answers_tokenized' contient les tokens pour chaque réponse\n",
    "sentences = dataset['answer_tokenized'].tolist()\n",
    "word2vec_model = Word2Vec(sentences=sentences, vector_size=50, window=5, min_count=1, workers=4)\n",
    "# 2. Convertir chaque séquence de tokens en vecteurs Word2Vec\n",
    "\n",
    "def embed_answer(answer_tokens):\n",
    "    embedded_vectors = []\n",
    "    for token in answer_tokens:\n",
    "        try:\n",
    "            embedded_vectors.append(word2vec_model.wv[token])\n",
    "        except KeyError:\n",
    "            embedded_vectors.append(np.zeros(word2vec_model.vector_size))\n",
    "\n",
    "    # Combine token vectors (e.g., average or sum)\n",
    "    return np.mean(embedded_vectors, axis=0)  # Return a NumPy array\n",
    "\n",
    "# Appliquer la fonction 'embed_answer' à chaque séquence de tokens\n",
    "dataset['answer_embedded'] = dataset['answer_tokenized'].apply(embed_answer)\n",
    "embedded_vectors = np.array(dataset['answer_embedded'].tolist())\n",
    "\n"
   ]
  },
  {
   "cell_type": "code",
   "execution_count": 81,
   "metadata": {},
   "outputs": [
    {
     "data": {
      "text/html": [
       "<div>\n",
       "<style scoped>\n",
       "    .dataframe tbody tr th:only-of-type {\n",
       "        vertical-align: middle;\n",
       "    }\n",
       "\n",
       "    .dataframe tbody tr th {\n",
       "        vertical-align: top;\n",
       "    }\n",
       "\n",
       "    .dataframe thead th {\n",
       "        text-align: right;\n",
       "    }\n",
       "</style>\n",
       "<table border=\"1\" class=\"dataframe\">\n",
       "  <thead>\n",
       "    <tr style=\"text-align: right;\">\n",
       "      <th></th>\n",
       "      <th>id</th>\n",
       "      <th>answer</th>\n",
       "      <th>score</th>\n",
       "      <th>correct</th>\n",
       "      <th>answer_tokenized</th>\n",
       "      <th>answer_embedded</th>\n",
       "    </tr>\n",
       "  </thead>\n",
       "  <tbody>\n",
       "    <tr>\n",
       "      <th>0</th>\n",
       "      <td>1.1</td>\n",
       "      <td>High risk problems are address in the prototyp...</td>\n",
       "      <td>3.5</td>\n",
       "      <td>0.0</td>\n",
       "      <td>[high, risk, problem, address, prototype, prog...</td>\n",
       "      <td>[0.15536742, -0.014855018, 0.1431846, -0.08290...</td>\n",
       "    </tr>\n",
       "    <tr>\n",
       "      <th>1</th>\n",
       "      <td>1.1</td>\n",
       "      <td>To simulate portions of the desired final prod...</td>\n",
       "      <td>5.0</td>\n",
       "      <td>1.0</td>\n",
       "      <td>[simulate, portion, desired, final, product, q...</td>\n",
       "      <td>[0.12358978, -0.0084962575, 0.1115971, -0.0642...</td>\n",
       "    </tr>\n",
       "    <tr>\n",
       "      <th>2</th>\n",
       "      <td>1.1</td>\n",
       "      <td>A prototype program simulates the behaviors of...</td>\n",
       "      <td>4.0</td>\n",
       "      <td>1.0</td>\n",
       "      <td>[prototype, program, simulates, behavior, port...</td>\n",
       "      <td>[0.1328473, -0.011225945, 0.12466898, -0.06936...</td>\n",
       "    </tr>\n",
       "    <tr>\n",
       "      <th>3</th>\n",
       "      <td>1.1</td>\n",
       "      <td>Defined in the Specification phase a prototype...</td>\n",
       "      <td>5.0</td>\n",
       "      <td>1.0</td>\n",
       "      <td>[defined, specification, phase, prototype, sti...</td>\n",
       "      <td>[0.12641999, -0.009804486, 0.11310876, -0.0657...</td>\n",
       "    </tr>\n",
       "    <tr>\n",
       "      <th>4</th>\n",
       "      <td>1.1</td>\n",
       "      <td>It is used to let the users have a first idea ...</td>\n",
       "      <td>3.0</td>\n",
       "      <td>0.0</td>\n",
       "      <td>[used, let, user, first, idea, completed, prog...</td>\n",
       "      <td>[0.10322445, -0.012190971, 0.09594863, -0.0523...</td>\n",
       "    </tr>\n",
       "  </tbody>\n",
       "</table>\n",
       "</div>"
      ],
      "text/plain": [
       "    id                                             answer  score  correct  \\\n",
       "0  1.1  High risk problems are address in the prototyp...    3.5      0.0   \n",
       "1  1.1  To simulate portions of the desired final prod...    5.0      1.0   \n",
       "2  1.1  A prototype program simulates the behaviors of...    4.0      1.0   \n",
       "3  1.1  Defined in the Specification phase a prototype...    5.0      1.0   \n",
       "4  1.1  It is used to let the users have a first idea ...    3.0      0.0   \n",
       "\n",
       "                                    answer_tokenized  \\\n",
       "0  [high, risk, problem, address, prototype, prog...   \n",
       "1  [simulate, portion, desired, final, product, q...   \n",
       "2  [prototype, program, simulates, behavior, port...   \n",
       "3  [defined, specification, phase, prototype, sti...   \n",
       "4  [used, let, user, first, idea, completed, prog...   \n",
       "\n",
       "                                     answer_embedded  \n",
       "0  [0.15536742, -0.014855018, 0.1431846, -0.08290...  \n",
       "1  [0.12358978, -0.0084962575, 0.1115971, -0.0642...  \n",
       "2  [0.1328473, -0.011225945, 0.12466898, -0.06936...  \n",
       "3  [0.12641999, -0.009804486, 0.11310876, -0.0657...  \n",
       "4  [0.10322445, -0.012190971, 0.09594863, -0.0523...  "
      ]
     },
     "execution_count": 81,
     "metadata": {},
     "output_type": "execute_result"
    }
   ],
   "source": [
    "dataset.head()"
   ]
  },
  {
   "cell_type": "markdown",
   "metadata": {},
   "source": [
    "## Models \"Regression\""
   ]
  },
  {
   "cell_type": "code",
   "execution_count": 82,
   "metadata": {},
   "outputs": [],
   "source": [
    "from sklearn.model_selection import train_test_split\n",
    "y = dataset['score']\n",
    "X = embedded_vectors\n",
    "\n",
    "# Diviser les données en ensembles d'entraînement et de test\n",
    "X_train, X_test, y_train, y_test = train_test_split(X, y, test_size=0.2, random_state=42)\n"
   ]
  },
  {
   "cell_type": "code",
   "execution_count": 105,
   "metadata": {},
   "outputs": [
    {
     "name": "stdout",
     "output_type": "stream",
     "text": [
      "Mean Squared Error SVR: 1.1344749611414648\n",
      "R-squared SVR: -0.08477127805937679\n"
     ]
    }
   ],
   "source": [
    "from sklearn.preprocessing import StandardScaler\n",
    "y = dataset['score']\n",
    "X = embedded_vectors  # Use the embedded vectors directly\n",
    "\n",
    "# Split the data into training and test sets\n",
    "X_train, X_test, y_train, y_test = train_test_split(X, y, test_size=0.2, random_state=42)\n",
    "\n",
    "# Initialize the scaler\n",
    "scaler = StandardScaler()\n",
    "\n",
    "# Fit the scaler on the training data and transform both training and test data\n",
    "X_train = scaler.fit_transform(X_train)\n",
    "X_test = scaler.transform(X_test)\n",
    "\n",
    "# Initialize and train the SVR model\n",
    "svr_model = SVR()\n",
    "svr_model.fit(X_train, y_train)\n",
    "\n",
    "# Predict scores on the test set\n",
    "y_pred = svr_model.predict(X_test)\n",
    "\n",
    "# Evaluate model performance\n",
    "mse = mean_squared_error(y_test, y_pred)\n",
    "r2 = r2_score(y_test, y_pred)\n",
    "\n",
    "print(\"Mean Squared Error SVR:\", mse)\n",
    "print(\"R-squared SVR:\", r2)"
   ]
  },
  {
   "cell_type": "code",
   "execution_count": 107,
   "metadata": {},
   "outputs": [
    {
     "name": "stdout",
     "output_type": "stream",
     "text": [
      "Mean Squared Error LinearRegression: 0.9568190000691131\n",
      "R-squared LinearRegression: 0.08510120969779555\n"
     ]
    }
   ],
   "source": [
    "from sklearn.linear_model import LinearRegression\n",
    "linear_model = LinearRegression()\n",
    "linear_model.fit(X_train, y_train)\n",
    "\n",
    "# Predict scores on the test set\n",
    "y_pred = linear_model.predict(X_test)\n",
    "\n",
    "# Evaluate model performance\n",
    "mse = mean_squared_error(y_test, y_pred)\n",
    "r2 = r2_score(y_test, y_pred)\n",
    "\n",
    "print(\"Mean Squared Error LinearRegression:\", mse)\n",
    "print(\"R-squared LinearRegression:\", r2)"
   ]
  },
  {
   "cell_type": "code",
   "execution_count": 108,
   "metadata": {},
   "outputs": [
    {
     "name": "stdout",
     "output_type": "stream",
     "text": [
      "Mean Squared Error Decision Tree Regression: 1.774968982630273\n",
      "R-squared Decision Tree Regression: -0.6972039381691546\n"
     ]
    }
   ],
   "source": [
    "from sklearn.tree import DecisionTreeRegressor\n",
    "\n",
    "# Initialiser et entraîner le modèle Decision Tree Regression\n",
    "decision_tree_model = DecisionTreeRegressor()\n",
    "decision_tree_model.fit(X_train, y_train)\n",
    "\n",
    "# Prédire les scores sur l'ensemble de test\n",
    "y_pred_decision_tree = decision_tree_model.predict(X_test)\n",
    "\n",
    "# Évaluer les performances du modèle\n",
    "mse_decision_tree = mean_squared_error(y_test, y_pred_decision_tree)\n",
    "r2_decision_tree = r2_score(y_test, y_pred_decision_tree)\n",
    "\n",
    "print(\"Mean Squared Error Decision Tree Regression:\", mse_decision_tree)\n",
    "print(\"R-squared Decision Tree Regression:\", r2_decision_tree)\n"
   ]
  },
  {
   "cell_type": "markdown",
   "metadata": {},
   "source": [
    "## Interpretation"
   ]
  },
  {
   "cell_type": "markdown",
   "metadata": {},
   "source": [
    "Comparons les résultats de régression entre différents modèles, notamment la régression linéaire, la régression par arbre de décision et la régression à vecteurs de support (SVR).\n",
    "\n",
    "1. **Régression par arbre de décision**:\n",
    "   - Erreur quadratique moyenne (Mean Squared Error): 1.775\n",
    "   - Coefficient de détermination (R-squared): -0.697\n",
    "   - L'erreur quadratique moyenne mesure l'écart moyen au carré entre les valeurs prédites et les valeurs réelles. Une valeur plus faible est souhaitable.\n",
    "   - Le coefficient de détermination, également appelé R-squared, mesure la proportion de la variance dans la variable dépendante qui est prévisible à partir de la variable indépendante. Une valeur plus proche de 1 est préférable, indiquant un meilleur ajustement du modèle.\n",
    "\n",
    "2. **Régression linéaire**:\n",
    "   - Erreur quadratique moyenne: 0.957\n",
    "   - Coefficient de détermination: 0.085\n",
    "   - L'erreur quadratique moyenne est plus faible que celle de la régression par arbre de décision, indiquant un ajustement légèrement meilleur.\n",
    "   - Le coefficient de détermination est également plus élevé, bien que toujours relativement faible, indiquant que le modèle linéaire explique mieux la variance dans les données par rapport à l'arbre de décision.\n",
    "\n",
    "3. **SVR (Régression à vecteurs de support)**:\n",
    "   - Erreur quadratique moyenne: 1.134\n",
    "   - Coefficient de détermination: -0.085\n",
    "   - L'erreur quadratique moyenne est intermédiaire entre la régression linéaire et l'arbre de décision, mais le coefficient de détermination est négatif, ce qui indique que le modèle ne s'ajuste pas bien aux données.\n",
    "\n",
    "**Interprétation**:\n",
    "- Dans ce cas, la régression linéaire semble être le meilleur choix, car elle présente une erreur quadratique moyenne plus faible et un coefficient de détermination légèrement plus élevé par rapport aux autres modèles.\n",
    "- Cependant, il est important de noter que l'interprétation des résultats de régression doit être effectuée avec prudence, en tenant compte des spécificités du domaine et des données."
   ]
  },
  {
   "cell_type": "markdown",
   "metadata": {},
   "source": []
  }
 ],
 "metadata": {
  "kernelspec": {
   "display_name": "Python 3",
   "language": "python",
   "name": "python3"
  },
  "language_info": {
   "codemirror_mode": {
    "name": "ipython",
    "version": 3
   },
   "file_extension": ".py",
   "mimetype": "text/x-python",
   "name": "python",
   "nbconvert_exporter": "python",
   "pygments_lexer": "ipython3",
   "version": "3.10.10"
  }
 },
 "nbformat": 4,
 "nbformat_minor": 2
}
